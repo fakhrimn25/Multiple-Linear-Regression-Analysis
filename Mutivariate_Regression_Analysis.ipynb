{
  "nbformat": 4,
  "nbformat_minor": 0,
  "metadata": {
    "colab": {
      "name": "Mutivariate Regression Analysis",
      "provenance": [],
      "collapsed_sections": []
    },
    "kernelspec": {
      "name": "python3",
      "display_name": "Python 3"
    },
    "language_info": {
      "name": "python"
    }
  },
  "cells": [
    {
      "cell_type": "markdown",
      "source": [
        "# Mutivariate Regression Analysis"
      ],
      "metadata": {
        "id": "yhTiyD_07Dt2"
      }
    },
    {
      "cell_type": "markdown",
      "source": [
        "Dalam model ini akan diaplikasikan konsep regresi multivariat untuk melihat pengaruh beberapa faktor terhadap income atau penghasilan pada penjualan. Disini akan digunakan dataset Lemonade yang terdiri dari 32 baris yang menandakan penjualan selama 32 hari"
      ],
      "metadata": {
        "id": "8GNwpm3OFDL4"
      }
    },
    {
      "cell_type": "markdown",
      "source": [
        "## Assumptions of the Model"
      ],
      "metadata": {
        "id": "xM_gdbjf8D6N"
      }
    },
    {
      "cell_type": "markdown",
      "source": [
        "Perlu diketahui bahwa tidak semua problem dapat diselesaikan dengan linear regression. Untuk pemodelan dengan linear regression, terdapat beberapa asumsi yang harus dipenuhi, yaitu :\n",
        "\n",
        "- ***Terdapat hubungan linear antara variabel input (feature) dan variabel output(label)***. Untuk melihat hubungan linear feature dan label, dapat menggunakan chart seperti scatter chart. Untuk mengetahui hubungan dari variabel umumnya dilakukan pada tahap eksplorasi data.\n",
        "- ***Residual Harus Berdistribusi Normal***. Agar model regresi valid, maka resiudal dari model harus berdistribusi normal. Hal ini dapat kita baca dari hasil summary dari model, yaitu skew. Semakin nilainya mendekati nol maka distribusi residual mendekati normal. atau kita bisa lihat dengan menggunakan visualisasi QQ pplot\n",
        "- ***Tidak ada multicollinearity antara features atau terdapat sedikit multicollinearity***. Multicollinearity artinya terdapat dependency (ketergantungan) antara feature, misalnya saja hanya bisa mengetahui nilai feature B jika nilai feature A sudah diketahui, artinya variabel independen/ features tidak terlalu berkorelasi.\n",
        "- ***data tidak terdapat heteroskedastisitas.***\n",
        " heteroskedastisitas adalah kondisi ketika yang terjadi justru variansinya semakin membesar atau mengecil, selain distribusi dari residual harus mendekati atau berdistribusi normal, homoskedastisitas adalah salah satu syarat yang harus dipenuhi agar model yang dibuat valid. Homoskedastisitas adalah kondisi dimana variansi dari error seragam.\n",
        "- ***Tidak ada autocorrelation dalam data***, contohnya pada time-series data."
      ],
      "metadata": {
        "id": "KKK0busl7-a-"
      }
    },
    {
      "cell_type": "markdown",
      "source": [
        "## Import our Libraries"
      ],
      "metadata": {
        "id": "zUjA8fkKC6_F"
      }
    },
    {
      "cell_type": "code",
      "source": [
        "import numpy as np\n",
        "import pandas as pd\n",
        "import seaborn as sns\n",
        "from scipy import stats\n",
        "import matplotlib.pyplot as plt\n",
        "\n",
        "import statsmodels.api as sm\n",
        "from statsmodels.stats import diagnostic as diag\n",
        "from statsmodels.stats.outliers_influence import variance_inflation_factor\n",
        "\n",
        "from sklearn.linear_model import LinearRegression\n",
        "from sklearn.model_selection import train_test_split\n",
        "from sklearn.metrics import mean_squared_error, r2_score, mean_absolute_error\n",
        "\n",
        "%matplotlib inline"
      ],
      "metadata": {
        "id": "Cz3BmywmDBqn",
        "colab": {
          "base_uri": "https://localhost:8080/"
        },
        "outputId": "64aac3b4-a003-481b-e3be-3963bb1ed761"
      },
      "execution_count": 1,
      "outputs": [
        {
          "output_type": "stream",
          "name": "stderr",
          "text": [
            "/usr/local/lib/python3.7/dist-packages/statsmodels/tools/_testing.py:19: FutureWarning: pandas.util.testing is deprecated. Use the functions in the public API at pandas.testing instead.\n",
            "  import pandas.util.testing as tm\n"
          ]
        }
      ]
    },
    {
      "cell_type": "markdown",
      "source": [
        "## Load the Data into Pandas"
      ],
      "metadata": {
        "id": "fClVM8zHDeIo"
      }
    },
    {
      "cell_type": "code",
      "source": [
        "df = pd.read_csv('/content/Lemonade2016-2.csv')\n",
        "\n",
        "#Mengisi nilai kosong pada kolom date\n",
        "df['Date'].fillna(value='7/8/2016', inplace=True)"
      ],
      "metadata": {
        "id": "KFF45yo7Dhkk"
      },
      "execution_count": 2,
      "outputs": []
    },
    {
      "cell_type": "code",
      "source": [
        "#Mengisi nilai kosong pada kolom Leaflets\n",
        "mean = float(round(df['Leaflets'].mean()))\n",
        "df['Leaflets'].fillna(value = mean, inplace=True)"
      ],
      "metadata": {
        "id": "PxtM-ZEAEyRk"
      },
      "execution_count": 3,
      "outputs": []
    },
    {
      "cell_type": "code",
      "source": [
        "#Menghapus duplikat data\n",
        "df = df.drop_duplicates().reset_index(drop=True)"
      ],
      "metadata": {
        "id": "EW2xQiNWE6eD"
      },
      "execution_count": 4,
      "outputs": []
    },
    {
      "cell_type": "code",
      "source": [
        "#Menambah beberapa kolom fiture untuk keperluan explor data\n",
        "df['Sale'] = df['Lemon'] + df['Orange']\n",
        "df['income'] = df['Sale'] * df['Price']"
      ],
      "metadata": {
        "id": "aSbg_tOAFQeJ"
      },
      "execution_count": 5,
      "outputs": []
    },
    {
      "cell_type": "code",
      "source": [
        "df.info()"
      ],
      "metadata": {
        "colab": {
          "base_uri": "https://localhost:8080/"
        },
        "id": "037H6vtuE-ar",
        "outputId": "952cdf65-ca78-4742-be16-b96f96c29015"
      },
      "execution_count": 6,
      "outputs": [
        {
          "output_type": "stream",
          "name": "stdout",
          "text": [
            "<class 'pandas.core.frame.DataFrame'>\n",
            "RangeIndex: 31 entries, 0 to 30\n",
            "Data columns (total 9 columns):\n",
            " #   Column       Non-Null Count  Dtype  \n",
            "---  ------       --------------  -----  \n",
            " 0   Date         31 non-null     object \n",
            " 1   Location     31 non-null     object \n",
            " 2   Lemon        31 non-null     int64  \n",
            " 3   Orange       31 non-null     int64  \n",
            " 4   Temperature  31 non-null     int64  \n",
            " 5   Leaflets     31 non-null     float64\n",
            " 6   Price        31 non-null     float64\n",
            " 7   Sale         31 non-null     int64  \n",
            " 8   income       31 non-null     float64\n",
            "dtypes: float64(3), int64(4), object(2)\n",
            "memory usage: 2.3+ KB\n"
          ]
        }
      ]
    },
    {
      "cell_type": "code",
      "source": [
        "df"
      ],
      "metadata": {
        "colab": {
          "base_uri": "https://localhost:8080/",
          "height": 1000
        },
        "id": "sN02FEgUFERm",
        "outputId": "226ba724-d047-4722-a9e1-d33987ceb518"
      },
      "execution_count": 7,
      "outputs": [
        {
          "output_type": "execute_result",
          "data": {
            "text/html": [
              "\n",
              "  <div id=\"df-d86fdcd1-b8d8-4808-b189-e6cffde6c6b7\">\n",
              "    <div class=\"colab-df-container\">\n",
              "      <div>\n",
              "<style scoped>\n",
              "    .dataframe tbody tr th:only-of-type {\n",
              "        vertical-align: middle;\n",
              "    }\n",
              "\n",
              "    .dataframe tbody tr th {\n",
              "        vertical-align: top;\n",
              "    }\n",
              "\n",
              "    .dataframe thead th {\n",
              "        text-align: right;\n",
              "    }\n",
              "</style>\n",
              "<table border=\"1\" class=\"dataframe\">\n",
              "  <thead>\n",
              "    <tr style=\"text-align: right;\">\n",
              "      <th></th>\n",
              "      <th>Date</th>\n",
              "      <th>Location</th>\n",
              "      <th>Lemon</th>\n",
              "      <th>Orange</th>\n",
              "      <th>Temperature</th>\n",
              "      <th>Leaflets</th>\n",
              "      <th>Price</th>\n",
              "      <th>Sale</th>\n",
              "      <th>income</th>\n",
              "    </tr>\n",
              "  </thead>\n",
              "  <tbody>\n",
              "    <tr>\n",
              "      <th>0</th>\n",
              "      <td>7/1/2016</td>\n",
              "      <td>Park</td>\n",
              "      <td>97</td>\n",
              "      <td>67</td>\n",
              "      <td>70</td>\n",
              "      <td>90.0</td>\n",
              "      <td>0.25</td>\n",
              "      <td>164</td>\n",
              "      <td>41.00</td>\n",
              "    </tr>\n",
              "    <tr>\n",
              "      <th>1</th>\n",
              "      <td>7/2/2016</td>\n",
              "      <td>Park</td>\n",
              "      <td>98</td>\n",
              "      <td>67</td>\n",
              "      <td>72</td>\n",
              "      <td>90.0</td>\n",
              "      <td>0.25</td>\n",
              "      <td>165</td>\n",
              "      <td>41.25</td>\n",
              "    </tr>\n",
              "    <tr>\n",
              "      <th>2</th>\n",
              "      <td>7/3/2016</td>\n",
              "      <td>Park</td>\n",
              "      <td>110</td>\n",
              "      <td>77</td>\n",
              "      <td>71</td>\n",
              "      <td>104.0</td>\n",
              "      <td>0.25</td>\n",
              "      <td>187</td>\n",
              "      <td>46.75</td>\n",
              "    </tr>\n",
              "    <tr>\n",
              "      <th>3</th>\n",
              "      <td>7/4/2016</td>\n",
              "      <td>Beach</td>\n",
              "      <td>134</td>\n",
              "      <td>99</td>\n",
              "      <td>76</td>\n",
              "      <td>98.0</td>\n",
              "      <td>0.25</td>\n",
              "      <td>233</td>\n",
              "      <td>58.25</td>\n",
              "    </tr>\n",
              "    <tr>\n",
              "      <th>4</th>\n",
              "      <td>7/5/2016</td>\n",
              "      <td>Beach</td>\n",
              "      <td>159</td>\n",
              "      <td>118</td>\n",
              "      <td>78</td>\n",
              "      <td>135.0</td>\n",
              "      <td>0.25</td>\n",
              "      <td>277</td>\n",
              "      <td>69.25</td>\n",
              "    </tr>\n",
              "    <tr>\n",
              "      <th>5</th>\n",
              "      <td>7/6/2016</td>\n",
              "      <td>Beach</td>\n",
              "      <td>103</td>\n",
              "      <td>69</td>\n",
              "      <td>82</td>\n",
              "      <td>90.0</td>\n",
              "      <td>0.25</td>\n",
              "      <td>172</td>\n",
              "      <td>43.00</td>\n",
              "    </tr>\n",
              "    <tr>\n",
              "      <th>6</th>\n",
              "      <td>7/7/2016</td>\n",
              "      <td>Beach</td>\n",
              "      <td>143</td>\n",
              "      <td>101</td>\n",
              "      <td>81</td>\n",
              "      <td>135.0</td>\n",
              "      <td>0.25</td>\n",
              "      <td>244</td>\n",
              "      <td>61.00</td>\n",
              "    </tr>\n",
              "    <tr>\n",
              "      <th>7</th>\n",
              "      <td>7/8/2016</td>\n",
              "      <td>Beach</td>\n",
              "      <td>123</td>\n",
              "      <td>86</td>\n",
              "      <td>82</td>\n",
              "      <td>113.0</td>\n",
              "      <td>0.25</td>\n",
              "      <td>209</td>\n",
              "      <td>52.25</td>\n",
              "    </tr>\n",
              "    <tr>\n",
              "      <th>8</th>\n",
              "      <td>7/9/2016</td>\n",
              "      <td>Beach</td>\n",
              "      <td>134</td>\n",
              "      <td>95</td>\n",
              "      <td>80</td>\n",
              "      <td>126.0</td>\n",
              "      <td>0.25</td>\n",
              "      <td>229</td>\n",
              "      <td>57.25</td>\n",
              "    </tr>\n",
              "    <tr>\n",
              "      <th>9</th>\n",
              "      <td>7/10/2016</td>\n",
              "      <td>Beach</td>\n",
              "      <td>140</td>\n",
              "      <td>98</td>\n",
              "      <td>82</td>\n",
              "      <td>131.0</td>\n",
              "      <td>0.25</td>\n",
              "      <td>238</td>\n",
              "      <td>59.50</td>\n",
              "    </tr>\n",
              "    <tr>\n",
              "      <th>10</th>\n",
              "      <td>7/11/2016</td>\n",
              "      <td>Beach</td>\n",
              "      <td>162</td>\n",
              "      <td>120</td>\n",
              "      <td>83</td>\n",
              "      <td>135.0</td>\n",
              "      <td>0.25</td>\n",
              "      <td>282</td>\n",
              "      <td>70.50</td>\n",
              "    </tr>\n",
              "    <tr>\n",
              "      <th>11</th>\n",
              "      <td>7/12/2016</td>\n",
              "      <td>Beach</td>\n",
              "      <td>130</td>\n",
              "      <td>95</td>\n",
              "      <td>84</td>\n",
              "      <td>99.0</td>\n",
              "      <td>0.25</td>\n",
              "      <td>225</td>\n",
              "      <td>56.25</td>\n",
              "    </tr>\n",
              "    <tr>\n",
              "      <th>12</th>\n",
              "      <td>7/13/2016</td>\n",
              "      <td>Beach</td>\n",
              "      <td>109</td>\n",
              "      <td>75</td>\n",
              "      <td>77</td>\n",
              "      <td>99.0</td>\n",
              "      <td>0.25</td>\n",
              "      <td>184</td>\n",
              "      <td>46.00</td>\n",
              "    </tr>\n",
              "    <tr>\n",
              "      <th>13</th>\n",
              "      <td>7/14/2016</td>\n",
              "      <td>Beach</td>\n",
              "      <td>122</td>\n",
              "      <td>85</td>\n",
              "      <td>78</td>\n",
              "      <td>113.0</td>\n",
              "      <td>0.25</td>\n",
              "      <td>207</td>\n",
              "      <td>51.75</td>\n",
              "    </tr>\n",
              "    <tr>\n",
              "      <th>14</th>\n",
              "      <td>7/15/2016</td>\n",
              "      <td>Beach</td>\n",
              "      <td>98</td>\n",
              "      <td>62</td>\n",
              "      <td>75</td>\n",
              "      <td>108.0</td>\n",
              "      <td>0.50</td>\n",
              "      <td>160</td>\n",
              "      <td>80.00</td>\n",
              "    </tr>\n",
              "    <tr>\n",
              "      <th>15</th>\n",
              "      <td>7/16/2016</td>\n",
              "      <td>Beach</td>\n",
              "      <td>81</td>\n",
              "      <td>50</td>\n",
              "      <td>74</td>\n",
              "      <td>90.0</td>\n",
              "      <td>0.50</td>\n",
              "      <td>131</td>\n",
              "      <td>65.50</td>\n",
              "    </tr>\n",
              "    <tr>\n",
              "      <th>16</th>\n",
              "      <td>7/17/2016</td>\n",
              "      <td>Beach</td>\n",
              "      <td>115</td>\n",
              "      <td>76</td>\n",
              "      <td>77</td>\n",
              "      <td>126.0</td>\n",
              "      <td>0.50</td>\n",
              "      <td>191</td>\n",
              "      <td>95.50</td>\n",
              "    </tr>\n",
              "    <tr>\n",
              "      <th>17</th>\n",
              "      <td>7/18/2016</td>\n",
              "      <td>Park</td>\n",
              "      <td>131</td>\n",
              "      <td>92</td>\n",
              "      <td>81</td>\n",
              "      <td>122.0</td>\n",
              "      <td>0.50</td>\n",
              "      <td>223</td>\n",
              "      <td>111.50</td>\n",
              "    </tr>\n",
              "    <tr>\n",
              "      <th>18</th>\n",
              "      <td>7/19/2016</td>\n",
              "      <td>Park</td>\n",
              "      <td>122</td>\n",
              "      <td>85</td>\n",
              "      <td>78</td>\n",
              "      <td>113.0</td>\n",
              "      <td>0.50</td>\n",
              "      <td>207</td>\n",
              "      <td>103.50</td>\n",
              "    </tr>\n",
              "    <tr>\n",
              "      <th>19</th>\n",
              "      <td>7/20/2016</td>\n",
              "      <td>Park</td>\n",
              "      <td>71</td>\n",
              "      <td>42</td>\n",
              "      <td>70</td>\n",
              "      <td>109.0</td>\n",
              "      <td>0.50</td>\n",
              "      <td>113</td>\n",
              "      <td>56.50</td>\n",
              "    </tr>\n",
              "    <tr>\n",
              "      <th>20</th>\n",
              "      <td>7/21/2016</td>\n",
              "      <td>Park</td>\n",
              "      <td>83</td>\n",
              "      <td>50</td>\n",
              "      <td>77</td>\n",
              "      <td>90.0</td>\n",
              "      <td>0.50</td>\n",
              "      <td>133</td>\n",
              "      <td>66.50</td>\n",
              "    </tr>\n",
              "    <tr>\n",
              "      <th>21</th>\n",
              "      <td>7/22/2016</td>\n",
              "      <td>Park</td>\n",
              "      <td>112</td>\n",
              "      <td>75</td>\n",
              "      <td>80</td>\n",
              "      <td>108.0</td>\n",
              "      <td>0.50</td>\n",
              "      <td>187</td>\n",
              "      <td>93.50</td>\n",
              "    </tr>\n",
              "    <tr>\n",
              "      <th>22</th>\n",
              "      <td>7/23/2016</td>\n",
              "      <td>Park</td>\n",
              "      <td>120</td>\n",
              "      <td>82</td>\n",
              "      <td>81</td>\n",
              "      <td>117.0</td>\n",
              "      <td>0.50</td>\n",
              "      <td>202</td>\n",
              "      <td>101.00</td>\n",
              "    </tr>\n",
              "    <tr>\n",
              "      <th>23</th>\n",
              "      <td>7/24/2016</td>\n",
              "      <td>Park</td>\n",
              "      <td>121</td>\n",
              "      <td>82</td>\n",
              "      <td>82</td>\n",
              "      <td>117.0</td>\n",
              "      <td>0.50</td>\n",
              "      <td>203</td>\n",
              "      <td>101.50</td>\n",
              "    </tr>\n",
              "    <tr>\n",
              "      <th>24</th>\n",
              "      <td>7/25/2016</td>\n",
              "      <td>Park</td>\n",
              "      <td>156</td>\n",
              "      <td>113</td>\n",
              "      <td>84</td>\n",
              "      <td>135.0</td>\n",
              "      <td>0.50</td>\n",
              "      <td>269</td>\n",
              "      <td>134.50</td>\n",
              "    </tr>\n",
              "    <tr>\n",
              "      <th>25</th>\n",
              "      <td>7/26/2016</td>\n",
              "      <td>Park</td>\n",
              "      <td>176</td>\n",
              "      <td>129</td>\n",
              "      <td>83</td>\n",
              "      <td>158.0</td>\n",
              "      <td>0.35</td>\n",
              "      <td>305</td>\n",
              "      <td>106.75</td>\n",
              "    </tr>\n",
              "    <tr>\n",
              "      <th>26</th>\n",
              "      <td>7/27/2016</td>\n",
              "      <td>Park</td>\n",
              "      <td>104</td>\n",
              "      <td>68</td>\n",
              "      <td>80</td>\n",
              "      <td>99.0</td>\n",
              "      <td>0.35</td>\n",
              "      <td>172</td>\n",
              "      <td>60.20</td>\n",
              "    </tr>\n",
              "    <tr>\n",
              "      <th>27</th>\n",
              "      <td>7/28/2016</td>\n",
              "      <td>Park</td>\n",
              "      <td>96</td>\n",
              "      <td>63</td>\n",
              "      <td>82</td>\n",
              "      <td>90.0</td>\n",
              "      <td>0.35</td>\n",
              "      <td>159</td>\n",
              "      <td>55.65</td>\n",
              "    </tr>\n",
              "    <tr>\n",
              "      <th>28</th>\n",
              "      <td>7/29/2016</td>\n",
              "      <td>Park</td>\n",
              "      <td>100</td>\n",
              "      <td>66</td>\n",
              "      <td>81</td>\n",
              "      <td>95.0</td>\n",
              "      <td>0.35</td>\n",
              "      <td>166</td>\n",
              "      <td>58.10</td>\n",
              "    </tr>\n",
              "    <tr>\n",
              "      <th>29</th>\n",
              "      <td>7/30/2016</td>\n",
              "      <td>Beach</td>\n",
              "      <td>88</td>\n",
              "      <td>57</td>\n",
              "      <td>82</td>\n",
              "      <td>81.0</td>\n",
              "      <td>0.35</td>\n",
              "      <td>145</td>\n",
              "      <td>50.75</td>\n",
              "    </tr>\n",
              "    <tr>\n",
              "      <th>30</th>\n",
              "      <td>7/31/2016</td>\n",
              "      <td>Beach</td>\n",
              "      <td>76</td>\n",
              "      <td>47</td>\n",
              "      <td>82</td>\n",
              "      <td>68.0</td>\n",
              "      <td>0.35</td>\n",
              "      <td>123</td>\n",
              "      <td>43.05</td>\n",
              "    </tr>\n",
              "  </tbody>\n",
              "</table>\n",
              "</div>\n",
              "      <button class=\"colab-df-convert\" onclick=\"convertToInteractive('df-d86fdcd1-b8d8-4808-b189-e6cffde6c6b7')\"\n",
              "              title=\"Convert this dataframe to an interactive table.\"\n",
              "              style=\"display:none;\">\n",
              "        \n",
              "  <svg xmlns=\"http://www.w3.org/2000/svg\" height=\"24px\"viewBox=\"0 0 24 24\"\n",
              "       width=\"24px\">\n",
              "    <path d=\"M0 0h24v24H0V0z\" fill=\"none\"/>\n",
              "    <path d=\"M18.56 5.44l.94 2.06.94-2.06 2.06-.94-2.06-.94-.94-2.06-.94 2.06-2.06.94zm-11 1L8.5 8.5l.94-2.06 2.06-.94-2.06-.94L8.5 2.5l-.94 2.06-2.06.94zm10 10l.94 2.06.94-2.06 2.06-.94-2.06-.94-.94-2.06-.94 2.06-2.06.94z\"/><path d=\"M17.41 7.96l-1.37-1.37c-.4-.4-.92-.59-1.43-.59-.52 0-1.04.2-1.43.59L10.3 9.45l-7.72 7.72c-.78.78-.78 2.05 0 2.83L4 21.41c.39.39.9.59 1.41.59.51 0 1.02-.2 1.41-.59l7.78-7.78 2.81-2.81c.8-.78.8-2.07 0-2.86zM5.41 20L4 18.59l7.72-7.72 1.47 1.35L5.41 20z\"/>\n",
              "  </svg>\n",
              "      </button>\n",
              "      \n",
              "  <style>\n",
              "    .colab-df-container {\n",
              "      display:flex;\n",
              "      flex-wrap:wrap;\n",
              "      gap: 12px;\n",
              "    }\n",
              "\n",
              "    .colab-df-convert {\n",
              "      background-color: #E8F0FE;\n",
              "      border: none;\n",
              "      border-radius: 50%;\n",
              "      cursor: pointer;\n",
              "      display: none;\n",
              "      fill: #1967D2;\n",
              "      height: 32px;\n",
              "      padding: 0 0 0 0;\n",
              "      width: 32px;\n",
              "    }\n",
              "\n",
              "    .colab-df-convert:hover {\n",
              "      background-color: #E2EBFA;\n",
              "      box-shadow: 0px 1px 2px rgba(60, 64, 67, 0.3), 0px 1px 3px 1px rgba(60, 64, 67, 0.15);\n",
              "      fill: #174EA6;\n",
              "    }\n",
              "\n",
              "    [theme=dark] .colab-df-convert {\n",
              "      background-color: #3B4455;\n",
              "      fill: #D2E3FC;\n",
              "    }\n",
              "\n",
              "    [theme=dark] .colab-df-convert:hover {\n",
              "      background-color: #434B5C;\n",
              "      box-shadow: 0px 1px 3px 1px rgba(0, 0, 0, 0.15);\n",
              "      filter: drop-shadow(0px 1px 2px rgba(0, 0, 0, 0.3));\n",
              "      fill: #FFFFFF;\n",
              "    }\n",
              "  </style>\n",
              "\n",
              "      <script>\n",
              "        const buttonEl =\n",
              "          document.querySelector('#df-d86fdcd1-b8d8-4808-b189-e6cffde6c6b7 button.colab-df-convert');\n",
              "        buttonEl.style.display =\n",
              "          google.colab.kernel.accessAllowed ? 'block' : 'none';\n",
              "\n",
              "        async function convertToInteractive(key) {\n",
              "          const element = document.querySelector('#df-d86fdcd1-b8d8-4808-b189-e6cffde6c6b7');\n",
              "          const dataTable =\n",
              "            await google.colab.kernel.invokeFunction('convertToInteractive',\n",
              "                                                     [key], {});\n",
              "          if (!dataTable) return;\n",
              "\n",
              "          const docLinkHtml = 'Like what you see? Visit the ' +\n",
              "            '<a target=\"_blank\" href=https://colab.research.google.com/notebooks/data_table.ipynb>data table notebook</a>'\n",
              "            + ' to learn more about interactive tables.';\n",
              "          element.innerHTML = '';\n",
              "          dataTable['output_type'] = 'display_data';\n",
              "          await google.colab.output.renderOutput(dataTable, element);\n",
              "          const docLink = document.createElement('div');\n",
              "          docLink.innerHTML = docLinkHtml;\n",
              "          element.appendChild(docLink);\n",
              "        }\n",
              "      </script>\n",
              "    </div>\n",
              "  </div>\n",
              "  "
            ],
            "text/plain": [
              "         Date Location  Lemon  Orange  ...  Leaflets  Price  Sale  income\n",
              "0    7/1/2016     Park     97      67  ...      90.0   0.25   164   41.00\n",
              "1    7/2/2016     Park     98      67  ...      90.0   0.25   165   41.25\n",
              "2    7/3/2016     Park    110      77  ...     104.0   0.25   187   46.75\n",
              "3    7/4/2016    Beach    134      99  ...      98.0   0.25   233   58.25\n",
              "4    7/5/2016    Beach    159     118  ...     135.0   0.25   277   69.25\n",
              "5    7/6/2016    Beach    103      69  ...      90.0   0.25   172   43.00\n",
              "6    7/7/2016    Beach    143     101  ...     135.0   0.25   244   61.00\n",
              "7    7/8/2016    Beach    123      86  ...     113.0   0.25   209   52.25\n",
              "8    7/9/2016    Beach    134      95  ...     126.0   0.25   229   57.25\n",
              "9   7/10/2016    Beach    140      98  ...     131.0   0.25   238   59.50\n",
              "10  7/11/2016    Beach    162     120  ...     135.0   0.25   282   70.50\n",
              "11  7/12/2016    Beach    130      95  ...      99.0   0.25   225   56.25\n",
              "12  7/13/2016    Beach    109      75  ...      99.0   0.25   184   46.00\n",
              "13  7/14/2016    Beach    122      85  ...     113.0   0.25   207   51.75\n",
              "14  7/15/2016    Beach     98      62  ...     108.0   0.50   160   80.00\n",
              "15  7/16/2016    Beach     81      50  ...      90.0   0.50   131   65.50\n",
              "16  7/17/2016    Beach    115      76  ...     126.0   0.50   191   95.50\n",
              "17  7/18/2016     Park    131      92  ...     122.0   0.50   223  111.50\n",
              "18  7/19/2016     Park    122      85  ...     113.0   0.50   207  103.50\n",
              "19  7/20/2016     Park     71      42  ...     109.0   0.50   113   56.50\n",
              "20  7/21/2016     Park     83      50  ...      90.0   0.50   133   66.50\n",
              "21  7/22/2016     Park    112      75  ...     108.0   0.50   187   93.50\n",
              "22  7/23/2016     Park    120      82  ...     117.0   0.50   202  101.00\n",
              "23  7/24/2016     Park    121      82  ...     117.0   0.50   203  101.50\n",
              "24  7/25/2016     Park    156     113  ...     135.0   0.50   269  134.50\n",
              "25  7/26/2016     Park    176     129  ...     158.0   0.35   305  106.75\n",
              "26  7/27/2016     Park    104      68  ...      99.0   0.35   172   60.20\n",
              "27  7/28/2016     Park     96      63  ...      90.0   0.35   159   55.65\n",
              "28  7/29/2016     Park    100      66  ...      95.0   0.35   166   58.10\n",
              "29  7/30/2016    Beach     88      57  ...      81.0   0.35   145   50.75\n",
              "30  7/31/2016    Beach     76      47  ...      68.0   0.35   123   43.05\n",
              "\n",
              "[31 rows x 9 columns]"
            ]
          },
          "metadata": {},
          "execution_count": 7
        }
      ]
    },
    {
      "cell_type": "markdown",
      "source": [
        "Sebelumnya sudah dilakukan uji regresi multivariat pada data di atas, hasilnya menunjukan bahwa data di atas memenuhi multikoleniaritas dan autokorelasi di mana artinya bahwa data di atas tidak valid untuk digunakan karena tidak memenuhi syarat. Maka untuk solusinya dilakukan transformasi data dengan MinMaxScaler"
      ],
      "metadata": {
        "id": "v7LuGnXHGxna"
      }
    },
    {
      "cell_type": "code",
      "source": [
        "from sklearn.preprocessing import MinMaxScaler  \n",
        "\n",
        "#Define MinMaxScaler as scaler  \n",
        "scaler = MinMaxScaler()  \n",
        "#list all the feature that need to be scaled  \n",
        "scaling_column = ['Lemon','Orange','Temperature','Leaflets','Price','Sale','income']#,'Beach','Park']\n",
        "#Apply fit_transfrom to scale selected feature  \n",
        "df_coba = df.copy()\n",
        "df_coba[scaling_column] = scaler.fit_transform(df_coba[scaling_column])\n",
        "#Cheking min and max value of the scaling_column\n",
        "df_coba[scaling_column].describe()"
      ],
      "metadata": {
        "colab": {
          "base_uri": "https://localhost:8080/",
          "height": 300
        },
        "id": "CSrABdw2fVCX",
        "outputId": "c832982c-cd7f-4c13-eaae-cad57671eb4c"
      },
      "execution_count": 8,
      "outputs": [
        {
          "output_type": "execute_result",
          "data": {
            "text/html": [
              "\n",
              "  <div id=\"df-8212ecf2-6920-4726-a935-9cc035ef12f7\">\n",
              "    <div class=\"colab-df-container\">\n",
              "      <div>\n",
              "<style scoped>\n",
              "    .dataframe tbody tr th:only-of-type {\n",
              "        vertical-align: middle;\n",
              "    }\n",
              "\n",
              "    .dataframe tbody tr th {\n",
              "        vertical-align: top;\n",
              "    }\n",
              "\n",
              "    .dataframe thead th {\n",
              "        text-align: right;\n",
              "    }\n",
              "</style>\n",
              "<table border=\"1\" class=\"dataframe\">\n",
              "  <thead>\n",
              "    <tr style=\"text-align: right;\">\n",
              "      <th></th>\n",
              "      <th>Lemon</th>\n",
              "      <th>Orange</th>\n",
              "      <th>Temperature</th>\n",
              "      <th>Leaflets</th>\n",
              "      <th>Price</th>\n",
              "      <th>Sale</th>\n",
              "      <th>income</th>\n",
              "    </tr>\n",
              "  </thead>\n",
              "  <tbody>\n",
              "    <tr>\n",
              "      <th>count</th>\n",
              "      <td>31.000000</td>\n",
              "      <td>31.000000</td>\n",
              "      <td>31.000000</td>\n",
              "      <td>31.000000</td>\n",
              "      <td>31.000000</td>\n",
              "      <td>31.000000</td>\n",
              "      <td>31.000000</td>\n",
              "    </tr>\n",
              "    <tr>\n",
              "      <th>mean</th>\n",
              "      <td>0.434101</td>\n",
              "      <td>0.440860</td>\n",
              "      <td>0.633641</td>\n",
              "      <td>0.457348</td>\n",
              "      <td>0.432258</td>\n",
              "      <td>0.437164</td>\n",
              "      <td>0.299120</td>\n",
              "    </tr>\n",
              "    <tr>\n",
              "      <th>std</th>\n",
              "      <td>0.248919</td>\n",
              "      <td>0.254376</td>\n",
              "      <td>0.292620</td>\n",
              "      <td>0.220234</td>\n",
              "      <td>0.453422</td>\n",
              "      <td>0.251187</td>\n",
              "      <td>0.263257</td>\n",
              "    </tr>\n",
              "    <tr>\n",
              "      <th>min</th>\n",
              "      <td>0.000000</td>\n",
              "      <td>0.000000</td>\n",
              "      <td>0.000000</td>\n",
              "      <td>0.000000</td>\n",
              "      <td>0.000000</td>\n",
              "      <td>0.000000</td>\n",
              "      <td>0.000000</td>\n",
              "    </tr>\n",
              "    <tr>\n",
              "      <th>25%</th>\n",
              "      <td>0.257143</td>\n",
              "      <td>0.281609</td>\n",
              "      <td>0.500000</td>\n",
              "      <td>0.272222</td>\n",
              "      <td>0.000000</td>\n",
              "      <td>0.268229</td>\n",
              "      <td>0.117647</td>\n",
              "    </tr>\n",
              "    <tr>\n",
              "      <th>50%</th>\n",
              "      <td>0.419048</td>\n",
              "      <td>0.402299</td>\n",
              "      <td>0.714286</td>\n",
              "      <td>0.444444</td>\n",
              "      <td>0.400000</td>\n",
              "      <td>0.406250</td>\n",
              "      <td>0.197861</td>\n",
              "    </tr>\n",
              "    <tr>\n",
              "      <th>75%</th>\n",
              "      <td>0.585714</td>\n",
              "      <td>0.609195</td>\n",
              "      <td>0.857143</td>\n",
              "      <td>0.622222</td>\n",
              "      <td>1.000000</td>\n",
              "      <td>0.593750</td>\n",
              "      <td>0.489305</td>\n",
              "    </tr>\n",
              "    <tr>\n",
              "      <th>max</th>\n",
              "      <td>1.000000</td>\n",
              "      <td>1.000000</td>\n",
              "      <td>1.000000</td>\n",
              "      <td>1.000000</td>\n",
              "      <td>1.000000</td>\n",
              "      <td>1.000000</td>\n",
              "      <td>1.000000</td>\n",
              "    </tr>\n",
              "  </tbody>\n",
              "</table>\n",
              "</div>\n",
              "      <button class=\"colab-df-convert\" onclick=\"convertToInteractive('df-8212ecf2-6920-4726-a935-9cc035ef12f7')\"\n",
              "              title=\"Convert this dataframe to an interactive table.\"\n",
              "              style=\"display:none;\">\n",
              "        \n",
              "  <svg xmlns=\"http://www.w3.org/2000/svg\" height=\"24px\"viewBox=\"0 0 24 24\"\n",
              "       width=\"24px\">\n",
              "    <path d=\"M0 0h24v24H0V0z\" fill=\"none\"/>\n",
              "    <path d=\"M18.56 5.44l.94 2.06.94-2.06 2.06-.94-2.06-.94-.94-2.06-.94 2.06-2.06.94zm-11 1L8.5 8.5l.94-2.06 2.06-.94-2.06-.94L8.5 2.5l-.94 2.06-2.06.94zm10 10l.94 2.06.94-2.06 2.06-.94-2.06-.94-.94-2.06-.94 2.06-2.06.94z\"/><path d=\"M17.41 7.96l-1.37-1.37c-.4-.4-.92-.59-1.43-.59-.52 0-1.04.2-1.43.59L10.3 9.45l-7.72 7.72c-.78.78-.78 2.05 0 2.83L4 21.41c.39.39.9.59 1.41.59.51 0 1.02-.2 1.41-.59l7.78-7.78 2.81-2.81c.8-.78.8-2.07 0-2.86zM5.41 20L4 18.59l7.72-7.72 1.47 1.35L5.41 20z\"/>\n",
              "  </svg>\n",
              "      </button>\n",
              "      \n",
              "  <style>\n",
              "    .colab-df-container {\n",
              "      display:flex;\n",
              "      flex-wrap:wrap;\n",
              "      gap: 12px;\n",
              "    }\n",
              "\n",
              "    .colab-df-convert {\n",
              "      background-color: #E8F0FE;\n",
              "      border: none;\n",
              "      border-radius: 50%;\n",
              "      cursor: pointer;\n",
              "      display: none;\n",
              "      fill: #1967D2;\n",
              "      height: 32px;\n",
              "      padding: 0 0 0 0;\n",
              "      width: 32px;\n",
              "    }\n",
              "\n",
              "    .colab-df-convert:hover {\n",
              "      background-color: #E2EBFA;\n",
              "      box-shadow: 0px 1px 2px rgba(60, 64, 67, 0.3), 0px 1px 3px 1px rgba(60, 64, 67, 0.15);\n",
              "      fill: #174EA6;\n",
              "    }\n",
              "\n",
              "    [theme=dark] .colab-df-convert {\n",
              "      background-color: #3B4455;\n",
              "      fill: #D2E3FC;\n",
              "    }\n",
              "\n",
              "    [theme=dark] .colab-df-convert:hover {\n",
              "      background-color: #434B5C;\n",
              "      box-shadow: 0px 1px 3px 1px rgba(0, 0, 0, 0.15);\n",
              "      filter: drop-shadow(0px 1px 2px rgba(0, 0, 0, 0.3));\n",
              "      fill: #FFFFFF;\n",
              "    }\n",
              "  </style>\n",
              "\n",
              "      <script>\n",
              "        const buttonEl =\n",
              "          document.querySelector('#df-8212ecf2-6920-4726-a935-9cc035ef12f7 button.colab-df-convert');\n",
              "        buttonEl.style.display =\n",
              "          google.colab.kernel.accessAllowed ? 'block' : 'none';\n",
              "\n",
              "        async function convertToInteractive(key) {\n",
              "          const element = document.querySelector('#df-8212ecf2-6920-4726-a935-9cc035ef12f7');\n",
              "          const dataTable =\n",
              "            await google.colab.kernel.invokeFunction('convertToInteractive',\n",
              "                                                     [key], {});\n",
              "          if (!dataTable) return;\n",
              "\n",
              "          const docLinkHtml = 'Like what you see? Visit the ' +\n",
              "            '<a target=\"_blank\" href=https://colab.research.google.com/notebooks/data_table.ipynb>data table notebook</a>'\n",
              "            + ' to learn more about interactive tables.';\n",
              "          element.innerHTML = '';\n",
              "          dataTable['output_type'] = 'display_data';\n",
              "          await google.colab.output.renderOutput(dataTable, element);\n",
              "          const docLink = document.createElement('div');\n",
              "          docLink.innerHTML = docLinkHtml;\n",
              "          element.appendChild(docLink);\n",
              "        }\n",
              "      </script>\n",
              "    </div>\n",
              "  </div>\n",
              "  "
            ],
            "text/plain": [
              "           Lemon     Orange  Temperature  ...      Price       Sale     income\n",
              "count  31.000000  31.000000    31.000000  ...  31.000000  31.000000  31.000000\n",
              "mean    0.434101   0.440860     0.633641  ...   0.432258   0.437164   0.299120\n",
              "std     0.248919   0.254376     0.292620  ...   0.453422   0.251187   0.263257\n",
              "min     0.000000   0.000000     0.000000  ...   0.000000   0.000000   0.000000\n",
              "25%     0.257143   0.281609     0.500000  ...   0.000000   0.268229   0.117647\n",
              "50%     0.419048   0.402299     0.714286  ...   0.400000   0.406250   0.197861\n",
              "75%     0.585714   0.609195     0.857143  ...   1.000000   0.593750   0.489305\n",
              "max     1.000000   1.000000     1.000000  ...   1.000000   1.000000   1.000000\n",
              "\n",
              "[8 rows x 7 columns]"
            ]
          },
          "metadata": {},
          "execution_count": 8
        }
      ]
    },
    {
      "cell_type": "code",
      "source": [
        "df = df_coba.copy()"
      ],
      "metadata": {
        "id": "KbASjNtJeKcE"
      },
      "execution_count": 9,
      "outputs": []
    },
    {
      "cell_type": "markdown",
      "source": [
        "## Check for Multicollinearity"
      ],
      "metadata": {
        "id": "tJLLZ-ZtFVQG"
      }
    },
    {
      "cell_type": "markdown",
      "source": [
        "Setelah memuat data, kita akan memvalidasi salah satu asumsi dengan memeriksa apakah data multicollinearity. Salah satu asumsi model yang harus dipenuhi adalah bahwa tidak ada multicollinearity. multicollinearity adalah dimana salah satu variabel sangat berkorelasi dengan variabel lainnya. contohnya adalah ketika salah satu variabel X berkorelasi hampir sempurna dengan variabel X yang lainnya atau bahkan sempurna."
      ],
      "metadata": {
        "id": "MpFwxjGILXqB"
      }
    },
    {
      "cell_type": "markdown",
      "source": [
        "### How to test for multicollinearity?"
      ],
      "metadata": {
        "id": "l_kE91i-MKEr"
      }
    },
    {
      "cell_type": "markdown",
      "source": [
        "Hal pertama yang dapat kita lakukan adalah membuat matriks korelasi menggunakan fungsi ***corr()***, metode ini akan membuat matriks dengan masing-masing variabel memiliki korelasi yang dihitung untuk semua variabel lainnya. "
      ],
      "metadata": {
        "id": "pva3U7XWMO3n"
      }
    },
    {
      "cell_type": "code",
      "source": [
        "# menghitung matriks korelasi\n",
        "corr = df.corr()\n",
        "\n",
        "# menampilkan matriks korelasi\n",
        "display(corr)\n",
        "print('-'*100)\n",
        "\n",
        "# plot korelasi dengan heatmap\n",
        "plt.figure(figsize=(10,8))\n",
        "sns.heatmap(corr, xticklabels=corr.columns, yticklabels=corr.columns, cmap='RdBu', annot=True)\n",
        "plt.show()"
      ],
      "metadata": {
        "colab": {
          "base_uri": "https://localhost:8080/",
          "height": 756
        },
        "id": "lPuBvgwuFhIi",
        "outputId": "a664c677-bfe3-4476-b8e9-6b7edb77b0ee"
      },
      "execution_count": 10,
      "outputs": [
        {
          "output_type": "display_data",
          "data": {
            "text/html": [
              "\n",
              "  <div id=\"df-cbd456ad-66d5-4eb1-a998-b58bdeb9ec8b\">\n",
              "    <div class=\"colab-df-container\">\n",
              "      <div>\n",
              "<style scoped>\n",
              "    .dataframe tbody tr th:only-of-type {\n",
              "        vertical-align: middle;\n",
              "    }\n",
              "\n",
              "    .dataframe tbody tr th {\n",
              "        vertical-align: top;\n",
              "    }\n",
              "\n",
              "    .dataframe thead th {\n",
              "        text-align: right;\n",
              "    }\n",
              "</style>\n",
              "<table border=\"1\" class=\"dataframe\">\n",
              "  <thead>\n",
              "    <tr style=\"text-align: right;\">\n",
              "      <th></th>\n",
              "      <th>Lemon</th>\n",
              "      <th>Orange</th>\n",
              "      <th>Temperature</th>\n",
              "      <th>Leaflets</th>\n",
              "      <th>Price</th>\n",
              "      <th>Sale</th>\n",
              "      <th>income</th>\n",
              "    </tr>\n",
              "  </thead>\n",
              "  <tbody>\n",
              "    <tr>\n",
              "      <th>Lemon</th>\n",
              "      <td>1.000000</td>\n",
              "      <td>0.996714</td>\n",
              "      <td>0.477345</td>\n",
              "      <td>0.857512</td>\n",
              "      <td>-0.270530</td>\n",
              "      <td>0.999309</td>\n",
              "      <td>0.469276</td>\n",
              "    </tr>\n",
              "    <tr>\n",
              "      <th>Orange</th>\n",
              "      <td>0.996714</td>\n",
              "      <td>1.000000</td>\n",
              "      <td>0.453116</td>\n",
              "      <td>0.826333</td>\n",
              "      <td>-0.318083</td>\n",
              "      <td>0.999036</td>\n",
              "      <td>0.426955</td>\n",
              "    </tr>\n",
              "    <tr>\n",
              "      <th>Temperature</th>\n",
              "      <td>0.477345</td>\n",
              "      <td>0.453116</td>\n",
              "      <td>1.000000</td>\n",
              "      <td>0.287209</td>\n",
              "      <td>-0.033575</td>\n",
              "      <td>0.466616</td>\n",
              "      <td>0.339447</td>\n",
              "    </tr>\n",
              "    <tr>\n",
              "      <th>Leaflets</th>\n",
              "      <td>0.857512</td>\n",
              "      <td>0.826333</td>\n",
              "      <td>0.287209</td>\n",
              "      <td>1.000000</td>\n",
              "      <td>0.032040</td>\n",
              "      <td>0.843905</td>\n",
              "      <td>0.600593</td>\n",
              "    </tr>\n",
              "    <tr>\n",
              "      <th>Price</th>\n",
              "      <td>-0.270530</td>\n",
              "      <td>-0.318083</td>\n",
              "      <td>-0.033575</td>\n",
              "      <td>0.032040</td>\n",
              "      <td>1.000000</td>\n",
              "      <td>-0.292572</td>\n",
              "      <td>0.702259</td>\n",
              "    </tr>\n",
              "    <tr>\n",
              "      <th>Sale</th>\n",
              "      <td>0.999309</td>\n",
              "      <td>0.999036</td>\n",
              "      <td>0.466616</td>\n",
              "      <td>0.843905</td>\n",
              "      <td>-0.292572</td>\n",
              "      <td>1.000000</td>\n",
              "      <td>0.450239</td>\n",
              "    </tr>\n",
              "    <tr>\n",
              "      <th>income</th>\n",
              "      <td>0.469276</td>\n",
              "      <td>0.426955</td>\n",
              "      <td>0.339447</td>\n",
              "      <td>0.600593</td>\n",
              "      <td>0.702259</td>\n",
              "      <td>0.450239</td>\n",
              "      <td>1.000000</td>\n",
              "    </tr>\n",
              "  </tbody>\n",
              "</table>\n",
              "</div>\n",
              "      <button class=\"colab-df-convert\" onclick=\"convertToInteractive('df-cbd456ad-66d5-4eb1-a998-b58bdeb9ec8b')\"\n",
              "              title=\"Convert this dataframe to an interactive table.\"\n",
              "              style=\"display:none;\">\n",
              "        \n",
              "  <svg xmlns=\"http://www.w3.org/2000/svg\" height=\"24px\"viewBox=\"0 0 24 24\"\n",
              "       width=\"24px\">\n",
              "    <path d=\"M0 0h24v24H0V0z\" fill=\"none\"/>\n",
              "    <path d=\"M18.56 5.44l.94 2.06.94-2.06 2.06-.94-2.06-.94-.94-2.06-.94 2.06-2.06.94zm-11 1L8.5 8.5l.94-2.06 2.06-.94-2.06-.94L8.5 2.5l-.94 2.06-2.06.94zm10 10l.94 2.06.94-2.06 2.06-.94-2.06-.94-.94-2.06-.94 2.06-2.06.94z\"/><path d=\"M17.41 7.96l-1.37-1.37c-.4-.4-.92-.59-1.43-.59-.52 0-1.04.2-1.43.59L10.3 9.45l-7.72 7.72c-.78.78-.78 2.05 0 2.83L4 21.41c.39.39.9.59 1.41.59.51 0 1.02-.2 1.41-.59l7.78-7.78 2.81-2.81c.8-.78.8-2.07 0-2.86zM5.41 20L4 18.59l7.72-7.72 1.47 1.35L5.41 20z\"/>\n",
              "  </svg>\n",
              "      </button>\n",
              "      \n",
              "  <style>\n",
              "    .colab-df-container {\n",
              "      display:flex;\n",
              "      flex-wrap:wrap;\n",
              "      gap: 12px;\n",
              "    }\n",
              "\n",
              "    .colab-df-convert {\n",
              "      background-color: #E8F0FE;\n",
              "      border: none;\n",
              "      border-radius: 50%;\n",
              "      cursor: pointer;\n",
              "      display: none;\n",
              "      fill: #1967D2;\n",
              "      height: 32px;\n",
              "      padding: 0 0 0 0;\n",
              "      width: 32px;\n",
              "    }\n",
              "\n",
              "    .colab-df-convert:hover {\n",
              "      background-color: #E2EBFA;\n",
              "      box-shadow: 0px 1px 2px rgba(60, 64, 67, 0.3), 0px 1px 3px 1px rgba(60, 64, 67, 0.15);\n",
              "      fill: #174EA6;\n",
              "    }\n",
              "\n",
              "    [theme=dark] .colab-df-convert {\n",
              "      background-color: #3B4455;\n",
              "      fill: #D2E3FC;\n",
              "    }\n",
              "\n",
              "    [theme=dark] .colab-df-convert:hover {\n",
              "      background-color: #434B5C;\n",
              "      box-shadow: 0px 1px 3px 1px rgba(0, 0, 0, 0.15);\n",
              "      filter: drop-shadow(0px 1px 2px rgba(0, 0, 0, 0.3));\n",
              "      fill: #FFFFFF;\n",
              "    }\n",
              "  </style>\n",
              "\n",
              "      <script>\n",
              "        const buttonEl =\n",
              "          document.querySelector('#df-cbd456ad-66d5-4eb1-a998-b58bdeb9ec8b button.colab-df-convert');\n",
              "        buttonEl.style.display =\n",
              "          google.colab.kernel.accessAllowed ? 'block' : 'none';\n",
              "\n",
              "        async function convertToInteractive(key) {\n",
              "          const element = document.querySelector('#df-cbd456ad-66d5-4eb1-a998-b58bdeb9ec8b');\n",
              "          const dataTable =\n",
              "            await google.colab.kernel.invokeFunction('convertToInteractive',\n",
              "                                                     [key], {});\n",
              "          if (!dataTable) return;\n",
              "\n",
              "          const docLinkHtml = 'Like what you see? Visit the ' +\n",
              "            '<a target=\"_blank\" href=https://colab.research.google.com/notebooks/data_table.ipynb>data table notebook</a>'\n",
              "            + ' to learn more about interactive tables.';\n",
              "          element.innerHTML = '';\n",
              "          dataTable['output_type'] = 'display_data';\n",
              "          await google.colab.output.renderOutput(dataTable, element);\n",
              "          const docLink = document.createElement('div');\n",
              "          docLink.innerHTML = docLinkHtml;\n",
              "          element.appendChild(docLink);\n",
              "        }\n",
              "      </script>\n",
              "    </div>\n",
              "  </div>\n",
              "  "
            ],
            "text/plain": [
              "                Lemon    Orange  Temperature  ...     Price      Sale    income\n",
              "Lemon        1.000000  0.996714     0.477345  ... -0.270530  0.999309  0.469276\n",
              "Orange       0.996714  1.000000     0.453116  ... -0.318083  0.999036  0.426955\n",
              "Temperature  0.477345  0.453116     1.000000  ... -0.033575  0.466616  0.339447\n",
              "Leaflets     0.857512  0.826333     0.287209  ...  0.032040  0.843905  0.600593\n",
              "Price       -0.270530 -0.318083    -0.033575  ...  1.000000 -0.292572  0.702259\n",
              "Sale         0.999309  0.999036     0.466616  ... -0.292572  1.000000  0.450239\n",
              "income       0.469276  0.426955     0.339447  ...  0.702259  0.450239  1.000000\n",
              "\n",
              "[7 rows x 7 columns]"
            ]
          },
          "metadata": {}
        },
        {
          "output_type": "stream",
          "name": "stdout",
          "text": [
            "----------------------------------------------------------------------------------------------------\n"
          ]
        },
        {
          "output_type": "display_data",
          "data": {
            "image/png": "[encoded data removed]",
            "text/plain": [
              "<Figure size 720x576 with 2 Axes>"
            ]
          },
          "metadata": {
            "needs_background": "light"
          }
        }
      ]
    },
    {
      "cell_type": "markdown",
      "source": [
        "Dapat dilihat hasil dari gambar matrik korelasi di atas, kita dapat mengidentifikasi beberapa variabel yang sangat berkorelasi. Misalnya, jika Anda melihat korelasi antara 'Orange' dan 'Sale, hasilnya sempurna 1,00. Ini adalah korelasi yang sangat tinggi dan menandainya sebagai kandidat untuk dihapus."
      ],
      "metadata": {
        "id": "7DCcsanMJsFF"
      }
    },
    {
      "cell_type": "markdown",
      "source": [
        "Metode lain yang bisa kita gunakan adalah ***variance_inflation_factor*** yang merupakan ukuran seberapa besar kontribusi variabel tertentu terhadap standar error dalam model regresi. Ketika terjadi multicollinearity yang signifikan, faktor inflasi varians akan sangat besar untuk variabel-variabel dalam perhitungan."
      ],
      "metadata": {
        "id": "AFol5JrPM7Yt"
      }
    },
    {
      "cell_type": "markdown",
      "source": [
        "Dalam praktiknya jika salah satu nilai VFI variabel tersebut bernilai ***5 atau lebih tinggi***, maka variabel tersebut harus dikeluarkan dari model. Disini akan ditunjukan bagaimana VFI sebelum variabel yang sangat berkorelasi dibuang dan setelah variabel yang sangat berkorelasi dibuang."
      ],
      "metadata": {
        "id": "Y1FBhbApNa3t"
      }
    },
    {
      "cell_type": "code",
      "source": [
        "# define two data frames one before the drop and one after the drop\n",
        "df_b = df.drop(['Date','Location'], axis=1)\n",
        "df_a = df[['Temperature', 'Leaflets', 'Price', 'income']]\n",
        "df_before = df_b.drop(['income'], axis=1)\n",
        "df_after = df_a.drop(['income'], axis=1)\n",
        "\n",
        "# the VFI does expect a constant term in the data, so we need to add one using the add_constant method\n",
        "X1 = sm.tools.add_constant(df_before)\n",
        "X2 = sm.tools.add_constant(df_after)\n",
        "\n",
        "# create the series for both\n",
        "series_before = pd.Series([variance_inflation_factor(X1.values, i) for i in range(X1.shape[1])], index=X1.columns)\n",
        "series_after = pd.Series([variance_inflation_factor(X2.values, i) for i in range(X2.shape[1])], index=X2.columns)\n",
        "\n",
        "# display the series\n",
        "print('DATA SEBELUM')\n",
        "print('-'*100)\n",
        "display(series_before)\n",
        "print()\n",
        "\n",
        "print('DATA SESUDAH')\n",
        "print('-'*100)\n",
        "display(series_after)"
      ],
      "metadata": {
        "colab": {
          "base_uri": "https://localhost:8080/",
          "height": 419
        },
        "id": "EKH6y3AuKq8r",
        "outputId": "77763d73-6eca-4e1d-8b8f-6fc81e522389"
      },
      "execution_count": 11,
      "outputs": [
        {
          "output_type": "stream",
          "name": "stdout",
          "text": [
            "DATA SEBELUM\n",
            "----------------------------------------------------------------------------------------------------\n"
          ]
        },
        {
          "output_type": "stream",
          "name": "stderr",
          "text": [
            "/usr/local/lib/python3.7/dist-packages/statsmodels/tsa/tsatools.py:117: FutureWarning: In a future version of pandas all arguments of concat except for the argument 'objs' will be keyword-only\n",
            "  x = pd.concat(x[::order], 1)\n",
            "/usr/local/lib/python3.7/dist-packages/statsmodels/stats/outliers_influence.py:185: RuntimeWarning: divide by zero encountered in double_scalars\n",
            "  vif = 1. / (1. - r_squared_i)\n"
          ]
        },
        {
          "output_type": "display_data",
          "data": {
            "text/plain": [
              "const          22.608791\n",
              "Lemon                inf\n",
              "Orange               inf\n",
              "Temperature     2.835988\n",
              "Leaflets       14.194574\n",
              "Price           1.825912\n",
              "Sale                 inf\n",
              "dtype: float64"
            ]
          },
          "metadata": {}
        },
        {
          "output_type": "stream",
          "name": "stdout",
          "text": [
            "\n",
            "DATA SESUDAH\n",
            "----------------------------------------------------------------------------------------------------\n"
          ]
        },
        {
          "output_type": "display_data",
          "data": {
            "text/plain": [
              "const          9.183717\n",
              "Temperature    1.092086\n",
              "Leaflets       1.091976\n",
              "Price          1.003030\n",
              "dtype: float64"
            ]
          },
          "metadata": {}
        }
      ]
    },
    {
      "cell_type": "markdown",
      "source": [
        "Dari hasil data di atas, dapat disimpulkan bahwa pada dataframe yang beberapa variabelnya berkorelasi sangat tinggi setelah dibuang menunjukan nilai VFI yang **kurang dari 5** yang artinya variabel-variabel tersebut dapat digunakan dan memungkinkan data tidak multicollinearity. Sedangkan pada dataframe dengan variabelnya yang berkorelasi sangat tinggi tidak dibuang menunjukan terdapat nilai VFI yang **lebih dari 5** pada beberapa variabelnya yang artinya apabila variabel tersebut digunakan akan memungkinkan data multicollinearity"
      ],
      "metadata": {
        "id": "OULE-eVIKfZb"
      }
    },
    {
      "cell_type": "markdown",
      "source": [
        "di sini juga terdapat cara lain dengan memvisualisasikan data untuk memeriksa multicollinearity. Di dalam library pandas, ada ***scatter_matrix*** yang akan membuat scatter plot untuk setiap variabel dalam kumpulan data terhadap variabel lain."
      ],
      "metadata": {
        "id": "r3RMdRDEOkdZ"
      }
    },
    {
      "cell_type": "code",
      "source": [
        "# define the plot\n",
        "pd.plotting.scatter_matrix(df_after, alpha = 1, figsize = (30, 20))\n",
        "\n",
        "# show the plot\n",
        "plt.show()"
      ],
      "metadata": {
        "colab": {
          "base_uri": "https://localhost:8080/",
          "height": 613
        },
        "id": "nbfueUbqKCGq",
        "outputId": "6b64f51f-b60c-40dc-d010-b5f80f34343b"
      },
      "execution_count": 12,
      "outputs": [
        {
          "output_type": "display_data",
          "data": {
            "image/png": "[encoded data removed]",
            "text/plain": [
              "<Figure size 2160x1440 with 9 Axes>"
            ]
          },
          "metadata": {
            "needs_background": "light"
          }
        }
      ]
    },
    {
      "cell_type": "markdown",
      "source": [
        "## Build the Model"
      ],
      "metadata": {
        "id": "4D6XeQT-dE84"
      }
    },
    {
      "cell_type": "code",
      "source": [
        "# define our input variable (X) & output variable\n",
        "X = df_a.drop(['income'], axis=1)\n",
        "Y = df_a['income']\n",
        "\n",
        "# create a Linear Regression model object\n",
        "regression_model = LinearRegression()\n",
        "\n",
        "# pass through the X_train & y_train data set\n",
        "regression_model.fit(X, Y)"
      ],
      "metadata": {
        "colab": {
          "base_uri": "https://localhost:8080/"
        },
        "id": "zIklzNPrcuy0",
        "outputId": "cc851de9-2a27-4abc-e338-2f87a0c46d13"
      },
      "execution_count": 13,
      "outputs": [
        {
          "output_type": "execute_result",
          "data": {
            "text/plain": [
              "LinearRegression()"
            ]
          },
          "metadata": {},
          "execution_count": 13
        }
      ]
    },
    {
      "cell_type": "markdown",
      "source": [
        "### Exploring the Output"
      ],
      "metadata": {
        "id": "7RMn1T8AdI3X"
      }
    },
    {
      "cell_type": "markdown",
      "source": [
        "***Faktor Intercept dan koefisien Regresi***\n",
        "\n",
        "Berdasarkan output tersebut model regresi dapat ditulis sebagai berikut :"
      ],
      "metadata": {
        "id": "kpGiPQ4pHkNC"
      }
    },
    {
      "cell_type": "code",
      "source": [
        "list1 = []\n",
        "for i in regression_model.coef_:\n",
        "  list1.append(i)"
      ],
      "metadata": {
        "id": "DPpm9EqVI20j"
      },
      "execution_count": 14,
      "outputs": []
    },
    {
      "cell_type": "code",
      "source": [
        "print('income = {:.4} + ({:.4}*Temperature) + ({:.4}*Leaflets) + ({:.4}*Price)'.format(regression_model.intercept_, list1[0],list1[1],list1[2]))"
      ],
      "metadata": {
        "colab": {
          "base_uri": "https://localhost:8080/"
        },
        "id": "oCh5zJAbHnnV",
        "outputId": "45c7dfc4-085d-4c89-a4c2-a458adc98d13"
      },
      "execution_count": 15,
      "outputs": [
        {
          "output_type": "stream",
          "name": "stdout",
          "text": [
            "income = -0.2795 + (0.1928*Temperature) + (0.6178*Leaflets) + (0.4023*Price)\n"
          ]
        }
      ]
    },
    {
      "cell_type": "code",
      "source": [
        "# let's grab the coefficient of our model and the intercept\n",
        "intercept = regression_model.intercept_\n",
        "coefficent = regression_model.coef_[0]\n",
        "\n",
        "print(\"The intercept for our model is {:.4}\".format(intercept))\n",
        "print('-'*100)\n",
        "\n",
        "# loop through the dictionary and print the data\n",
        "for coef in zip(X.columns, regression_model.coef_):\n",
        "    print(\"The Coefficient for {} is {:.2}\".format(coef[0],coef[1]))"
      ],
      "metadata": {
        "colab": {
          "base_uri": "https://localhost:8080/"
        },
        "id": "5GOvB6P8dCzg",
        "outputId": "bb87db52-65e2-4cc9-f694-d2ae67c856b9"
      },
      "execution_count": 16,
      "outputs": [
        {
          "output_type": "stream",
          "name": "stdout",
          "text": [
            "The intercept for our model is -0.2795\n",
            "----------------------------------------------------------------------------------------------------\n",
            "The Coefficient for Temperature is 0.19\n",
            "The Coefficient for Leaflets is 0.62\n",
            "The Coefficient for Price is 0.4\n"
          ]
        }
      ]
    },
    {
      "cell_type": "markdown",
      "source": [
        "## Evaluating the Model"
      ],
      "metadata": {
        "id": "mlsRJLsOeQJc"
      }
    },
    {
      "cell_type": "code",
      "source": [
        "# define our intput\n",
        "X2 = sm.add_constant(X)\n",
        "\n",
        "# create a OLS model\n",
        "model = sm.OLS(Y, X2)\n",
        "\n",
        "# fit the data\n",
        "est = model.fit()"
      ],
      "metadata": {
        "colab": {
          "base_uri": "https://localhost:8080/"
        },
        "id": "9Fk63P4yWdd1",
        "outputId": "20d52989-6f2d-461b-da4c-36008be8fecb"
      },
      "execution_count": 17,
      "outputs": [
        {
          "output_type": "stream",
          "name": "stderr",
          "text": [
            "/usr/local/lib/python3.7/dist-packages/statsmodels/tsa/tsatools.py:117: FutureWarning: In a future version of pandas all arguments of concat except for the argument 'objs' will be keyword-only\n",
            "  x = pd.concat(x[::order], 1)\n"
          ]
        }
      ]
    },
    {
      "cell_type": "markdown",
      "source": [
        "### Checking for Heteroscedasticity"
      ],
      "metadata": {
        "id": "Cry6yRXyet4c"
      }
    },
    {
      "cell_type": "markdown",
      "source": [
        "Selanjutnya akan dilihat bahwa pada data tidak terdapat Heteroskedastisitas untuk memenuhi syarat pada pengujian regresi.\n",
        "\n",
        "Untuk memeriksa heteroskedastisitas, kita dapat memanfaatkan modul statsmodels.stats.diagnostic. Modul ini akan memberi kita beberapa fungsi pengujian yang dapat kita jalankan diantaranya yaitu **Breusch-Pagan** test dan **White** test untuk heteroskedastisitas. Lalu di sini juga akan digunakan **Goldfeld Quandt** Test untuk memeriksa heteroskedastisitas\n",
        "\n",
        "**Rumusan Hipotesis**\n",
        "\n",
        "H0 : tidak terdapat gejala heteroskedastisitas\n",
        "\n",
        "H1 : terdapat gejala heteroskedastisitas\n",
        "\n",
        "**Kriteria Uji**\n",
        "\n",
        "dengan mengambil α sebesar 0.05, jika nilai p > α maka H0 diterima\n",
        "\n",
        "\n",
        "Harapan kita di sini adalah untuk menerima hipotesis nol, dengan nilai p yang lebih dari 0.05 yang artinya data tidak memiliki heteroskedastisitas."
      ],
      "metadata": {
        "id": "LbCH75AwOdmy"
      }
    },
    {
      "cell_type": "code",
      "source": [
        "# Run the White's test\n",
        "_, pval, __, f_pval = diag.het_white(est.resid, est.model.exog, retres = False)\n",
        "print(pval, f_pval)\n",
        "print('-'*100)\n",
        "\n",
        "# print the results of the test\n",
        "if pval > 0.05:\n",
        "    print(\"White's Test\")\n",
        "    print(\"p-value : {:.4}\".format(pval))\n",
        "    print(\"H0 diterima, maka data tidak terdapat gejala heteroskedastisitas. \\n\")\n",
        "    \n",
        "else:\n",
        "    print(\"White's Test\")\n",
        "    print(\"p-value : {:.4}\".format(pval))\n",
        "    print(\"H0 ditolak, maka data terdapat gejala heteroskedastisitas. \\n\")\n",
        "\n",
        "# Run the Breusch-Pagan test\n",
        "_, pval, __, f_pval = diag.het_breuschpagan(est.resid, est.model.exog)\n",
        "print(pval, f_pval)\n",
        "print('-'*100)\n",
        "\n",
        "# print the results of the test\n",
        "if pval > 0.05:\n",
        "    print(\"Breusch-Pagan's Test\")\n",
        "    print(\"p-value : {:.4}\".format(pval))\n",
        "    print(\"H0 diterima, maka data tidak terdapat gejala heteroskedastisitas. \\n\")\n",
        "\n",
        "else:\n",
        "    print(\"For the Breusch-Pagan's Test\")\n",
        "    print(\"The p-value was {:.4}\".format(pval))\n",
        "    print(\"H0 ditolak, maka data terdapat gejala heteroskedastisitas. \\n\")\n",
        "\n",
        "# Run the Goldfeld Quandt Test\n",
        "from statsmodels.compat import lzip\n",
        "import statsmodels.stats.api as sms\n",
        "\n",
        "name = ['F statistic', 'p-value']\n",
        "test = sms.het_goldfeldquandt(est.resid, X)\n",
        "print(lzip(name, test))\n",
        "print('-'*100)\n",
        "\n",
        "# print the results of the test\n",
        "if test[1] > 0.05:\n",
        "    print(\"Goldfeld Quandt Test\")\n",
        "    print(\"p-value was {:.4}\".format(test[1]))\n",
        "    print(\"H0 diterima, maka data tidak terdapat gejala heteroskedastisitas.\")\n",
        "\n",
        "else:\n",
        "    print(\"Goldfeld Quandt Test\")\n",
        "    print(\"p-value was {:.4}\".format(test[1]))\n",
        "    print(\"H0 ditolak, maka data terdapat gejala heteroskedastisitas.\")"
      ],
      "metadata": {
        "colab": {
          "base_uri": "https://localhost:8080/"
        },
        "id": "F0A8-_CWedoX",
        "outputId": "c4b0aa96-dda4-4ea2-ff91-e2d6aa01b0c4"
      },
      "execution_count": 18,
      "outputs": [
        {
          "output_type": "stream",
          "name": "stdout",
          "text": [
            "0.16564226858877157 0.15936194384477287\n",
            "----------------------------------------------------------------------------------------------------\n",
            "White's Test\n",
            "p-value : 0.1656\n",
            "H0 diterima, maka data tidak terdapat gejala heteroskedastisitas. \n",
            "\n",
            "0.13313127907393987 0.140489772356363\n",
            "----------------------------------------------------------------------------------------------------\n",
            "Breusch-Pagan's Test\n",
            "p-value : 0.1331\n",
            "H0 diterima, maka data tidak terdapat gejala heteroskedastisitas. \n",
            "\n",
            "[('F statistic', 1.2395430178166307), ('p-value', 0.3521170521964732)]\n",
            "----------------------------------------------------------------------------------------------------\n",
            "Goldfeld Quandt Test\n",
            "p-value was 0.3521\n",
            "H0 diterima, maka data tidak terdapat gejala heteroskedastisitas.\n"
          ]
        }
      ]
    },
    {
      "cell_type": "markdown",
      "source": [
        "### Checking for Autocorrelation"
      ],
      "metadata": {
        "id": "pIIIxb6Qe0Mk"
      }
    },
    {
      "cell_type": "markdown",
      "source": [
        "Selanjutnya akan dilihat bahwa pada data tidak terdapat masalah autokorelasi untuk memenuhi syarat pada pengujian regresi. Untuk memeriksa Autokorelasi, kita dapat memanfaatkan modul statsmodels.stats.diagnostic dengan menggunakan uji Ljung-Box dan Breusch-Godfrey.\n",
        "\n",
        "**Rumusan Hipotesis**\n",
        "\n",
        "H0 : tidak terdapat masalah autokorelasi\n",
        "\n",
        "H1 : terdapat masalah autokorelasi\n",
        "\n",
        "**Kriteria Uji**\n",
        "\n",
        "dengan mengambil α sebesar 0.05, jika nilai p > α maka H0 diterima\n",
        "\n",
        "Harapan kita di sini adalah untuk menerima hipotesis nol, dengan nilai p yang lebih dari 0.05 yang artinya data tidak memiliki masalah autokorelasi."
      ],
      "metadata": {
        "id": "WA4GxveR1K2O"
      }
    },
    {
      "cell_type": "markdown",
      "source": [
        "lag dapat ditentukan dari fungsinya sendiri atau kita tentukan sendiri. Jika fungsi menanganinya, lag maksimum akan menjadi **min((num_obs // 2 - 2), 40)**, namun, ada aturan praktis untuk non-seasonal time series untuk menentukan lag adalah **min(10, (num_obs // 5))**."
      ],
      "metadata": {
        "id": "ngc0bXqg2VC7"
      }
    },
    {
      "cell_type": "markdown",
      "source": [
        "Kita juga dapat memeriksa autokorelasi secara visual dengan menggunakan modul statsmodels.graphics untuk memplot grafik faktor autokorelasi."
      ],
      "metadata": {
        "id": "9HNv7Bme3saO"
      }
    },
    {
      "cell_type": "code",
      "source": [
        "# test for autocorrelation\n",
        "from statsmodels.stats.stattools import durbin_watson\n",
        "\n",
        "# calculate the lag, optional\n",
        "lag = min(10, (len(X)//5))\n",
        "print('The number of lags will be {}'.format(lag))\n",
        "print('-'*100)\n",
        "\n",
        "# run the breusch-godfrey test for no autocorrelation of residuals\n",
        "test_results = diag.acorr_breusch_godfrey(est, nlags = lag)\n",
        "\n",
        "# grab the p-values and the test statistics\n",
        "p_val = test_results\n",
        "\n",
        "# print the results of the test\n",
        "print('Breusch-Godfrey test :')\n",
        "if min(p_val) > 0.05:\n",
        "    print(\"The lowest p-value found was {:.4}\".format(min(p_val)))\n",
        "    print(\"H0 diterima, maka tidak terdapat masalah autokorelasi.\")\n",
        "    print('-'*100)\n",
        "else:\n",
        "    print(\"The lowest p-value found was {:.4}\".format(min(p_val)))\n",
        "    print(\"H0 ditolak, maka terdapat masalah autokorelasi.\")\n",
        "    print('-'*100)\n",
        "\n",
        "# run the Ljung-Box test for no autocorrelation of residuals\n",
        "test_results = diag.acorr_ljungbox(est.resid)#, lags = lag)\n",
        "\n",
        "# grab the p-values and the test statistics\n",
        "ibvalue, p_val = test_results\n",
        "\n",
        "# print the results of the test\n",
        "print('Ljung-Box test :')\n",
        "if min(p_val) > 0.05:\n",
        "    print(\"The lowest p-value found was {:.4}\".format(min(p_val)))\n",
        "    print(\"H0 diterima, maka tidak terdapat masalah autokorelasi.\")\n",
        "    print('-'*100)\n",
        "else:\n",
        "    print(\"The lowest p-value found was {:.4}\".format(min(p_val)))\n",
        "    print(\"H0 ditolak, maka terdapat masalah autokorelasi.\")\n",
        "    print('-'*100)\n",
        "\n",
        "# print the results of the test\n",
        "auto = est.resid.autocorr()\n",
        "\n",
        "print('menggunakan .autocorr() :')\n",
        "if auto > 0.05:\n",
        "    print(\"The lowest p-value found was {:.4}\".format(auto))\n",
        "    print(\"H0 diterima, maka tidak terdapat masalah autokorelasi.\")\n",
        "    print('-'*100)\n",
        "else:\n",
        "    print(\"The lowest p-value found was {:.4}\".format(auto))\n",
        "    print(\"H0 ditolak, maka terdapat masalah autokorelasi.\")\n",
        "    print('-'*100)\n",
        "\n",
        "# plot autocorrelation\n",
        "sm.graphics.tsa.plot_acf(est.resid)\n",
        "plt.show()"
      ],
      "metadata": {
        "colab": {
          "base_uri": "https://localhost:8080/",
          "height": 524
        },
        "id": "NAYhqxFjl2xy",
        "outputId": "81d53291-fc71-4843-8b2f-937a38404887"
      },
      "execution_count": 19,
      "outputs": [
        {
          "output_type": "stream",
          "name": "stdout",
          "text": [
            "The number of lags will be 6\n",
            "----------------------------------------------------------------------------------------------------\n",
            "Breusch-Godfrey test :\n",
            "The lowest p-value found was 0.2195\n",
            "H0 diterima, maka tidak terdapat masalah autokorelasi.\n",
            "----------------------------------------------------------------------------------------------------\n",
            "Ljung-Box test :\n",
            "The lowest p-value found was 0.04866\n",
            "H0 ditolak, maka terdapat masalah autokorelasi.\n",
            "----------------------------------------------------------------------------------------------------\n",
            "menggunakan .autocorr() :\n",
            "The lowest p-value found was 0.3496\n",
            "H0 diterima, maka tidak terdapat masalah autokorelasi.\n",
            "----------------------------------------------------------------------------------------------------\n"
          ]
        },
        {
          "output_type": "display_data",
          "data": {
            "image/png": "[encoded data removed]",
            "text/plain": [
              "<Figure size 432x288 with 1 Axes>"
            ]
          },
          "metadata": {
            "needs_background": "light"
          }
        }
      ]
    },
    {
      "cell_type": "markdown",
      "source": [
        "### Checking For Normally Distributed Residuals"
      ],
      "metadata": {
        "id": "vmc7VFa0fALM"
      }
    },
    {
      "cell_type": "markdown",
      "source": [
        "Selanjutnya untuk melihat dataset yang dipakai valid atau tidak adalah dengan membuktikan bahwa dataset berdistribusi normal yang di mana sebagai syarat dari multivariate regression. untuk melihat apakah data yang digunakan berdistribusi normal atau tidak salah satu caranya adalah dengan memvisualisasikan data menggunakan statsmodels.api.qqplot, namun ini hanya pemeriksaan secara visual saja sehingga untuk penentuan normal tidaknya agak subjektif"
      ],
      "metadata": {
        "id": "0991wnkV5hL_"
      }
    },
    {
      "cell_type": "markdown",
      "source": [
        "Selain itu, kita perlu memeriksa asumsi lain, bahwa rata-rata residualnya harus sama dengan nol atau mendekati nol."
      ],
      "metadata": {
        "id": "Ja0xFxxY6a48"
      }
    },
    {
      "cell_type": "code",
      "source": [
        "import pylab\n",
        "\n",
        "# check for the normality of the residuals\n",
        "sm.qqplot(est.resid, line='s')\n",
        "pylab.show()\n",
        "\n",
        "# also check that the mean of the residuals is approx. 0.\n",
        "mean_residuals = sum(est.resid)/ len(est.resid)\n",
        "print('='*100)\n",
        "print(\"rata-rata residualnya adalah {:.4}\".format(mean_residuals))\n",
        "print('='*100)"
      ],
      "metadata": {
        "colab": {
          "base_uri": "https://localhost:8080/",
          "height": 331
        },
        "id": "ye6Hg808fFjf",
        "outputId": "31c76309-68a1-4b40-9ad6-2e640f9084b5"
      },
      "execution_count": 23,
      "outputs": [
        {
          "output_type": "display_data",
          "data": {
            "image/png": "[encoded data removed]",
            "text/plain": [
              "<Figure size 432x288 with 1 Axes>"
            ]
          },
          "metadata": {
            "needs_background": "light"
          }
        },
        {
          "output_type": "stream",
          "name": "stdout",
          "text": [
            "====================================================================================================\n",
            "rata-rata residualnya adalah 2.641e-17\n",
            "====================================================================================================\n"
          ]
        }
      ]
    },
    {
      "cell_type": "markdown",
      "source": [
        "Karena data telah memenuhi semua uji asumsi klasik, maka data tersebut dapat digunakan pada model multivariate regression."
      ],
      "metadata": {
        "id": "o7Jrwp7n8ryO"
      }
    },
    {
      "cell_type": "code",
      "source": [
        "# print out a summary\n",
        "print(est.summary())"
      ],
      "metadata": {
        "colab": {
          "base_uri": "https://localhost:8080/"
        },
        "id": "7FMkzzyafoLT",
        "outputId": "f434e76c-fe1f-4309-e4b5-ff4fd1591652"
      },
      "execution_count": 24,
      "outputs": [
        {
          "output_type": "stream",
          "name": "stdout",
          "text": [
            "                            OLS Regression Results                            \n",
            "==============================================================================\n",
            "Dep. Variable:                 income   R-squared:                       0.870\n",
            "Model:                            OLS   Adj. R-squared:                  0.855\n",
            "Method:                 Least Squares   F-statistic:                     60.09\n",
            "Date:                Tue, 15 Feb 2022   Prob (F-statistic):           4.48e-12\n",
            "Time:                        08:05:30   Log-Likelihood:                 29.487\n",
            "No. Observations:                  31   AIC:                            -50.97\n",
            "Df Residuals:                      27   BIC:                            -45.24\n",
            "Df Model:                           3                                         \n",
            "Covariance Type:            nonrobust                                         \n",
            "===============================================================================\n",
            "                  coef    std err          t      P>|t|      [0.025      0.975]\n",
            "-------------------------------------------------------------------------------\n",
            "const          -0.2795      0.055     -5.127      0.000      -0.391      -0.168\n",
            "Temperature     0.1928      0.065      2.952      0.006       0.059       0.327\n",
            "Leaflets        0.6178      0.087      7.121      0.000       0.440       0.796\n",
            "Price           0.4023      0.040      9.961      0.000       0.319       0.485\n",
            "==============================================================================\n",
            "Omnibus:                        1.305   Durbin-Watson:                   1.262\n",
            "Prob(Omnibus):                  0.521   Jarque-Bera (JB):                0.412\n",
            "Skew:                           0.171   Prob(JB):                        0.814\n",
            "Kurtosis:                       3.449   Cond. No.                         7.04\n",
            "==============================================================================\n",
            "\n",
            "Warnings:\n",
            "[1] Standard Errors assume that the covariance matrix of the errors is correctly specified.\n"
          ]
        }
      ]
    },
    {
      "cell_type": "markdown",
      "source": [
        "## Uji Signifikansi Parameter"
      ],
      "metadata": {
        "id": "x3x30MNfxFN_"
      }
    },
    {
      "cell_type": "markdown",
      "source": [
        "Selanjutnya, dilakukan Uji Parsial (Uji t) dan Uji Simultan (Uji F) untuk meliihat pengaruh dari Temperature, Leaflets, Price terhadap keuntungan"
      ],
      "metadata": {
        "id": "3YH4BNYwxPwV"
      }
    },
    {
      "cell_type": "markdown",
      "source": [
        "### Uji Parsial (Uji t)"
      ],
      "metadata": {
        "id": "FGHCcWfxx140"
      }
    },
    {
      "cell_type": "markdown",
      "source": [
        "**Rumusan Hipotesis**\n",
        "\n",
        "H0 : Variabel bebas secara parsial berpengaruh signifikan terhadap variabel terikat\n",
        "\n",
        "H1 : variabel bebas secara parsial tidak berpengaruh signifikan terhadap variabel terikat\n",
        "\n",
        "**Kriteria Uji**\n",
        "\n",
        "dengan mengambil α sebesar 0.05, jika probbabilitas variabel bebas < α maka H0 diterima\n",
        "\n",
        "Harapan kita di sini adalah untuk menerima hipotesis nol, dengan probbabilitas variabel bebas yang kurang dari 0.05 yang artinya Variabel bebas secara parsial berpengaruh signifikan terhadap variabel terikat"
      ],
      "metadata": {
        "id": "OFpROlcb9LVV"
      }
    },
    {
      "cell_type": "code",
      "source": [
        "print('='*100)\n",
        "for i in range(1, len(est.pvalues)):\n",
        "  if est.pvalues[i] > 0.05:\n",
        "    print(\"probbabilitas variabel {} : {:.4}\".format(est.pvalues.index[i], est.pvalues[i]))\n",
        "    print(\"H0 ditolak, maka variabel bebas secara parsial tidak berpengaruh signifikan terhadap variabel terikat.\")\n",
        "    print('='*100)\n",
        "  else:\n",
        "    print(\"probbabilitas variabel {} : {:.4}\".format(est.pvalues.index[i], est.pvalues[i]))\n",
        "    print(\"H0 diterima, maka Variabel bebas secara parsial berpengaruh signifikan terhadap variabel terikat.\")\n",
        "    print('='*100)"
      ],
      "metadata": {
        "colab": {
          "base_uri": "https://localhost:8080/"
        },
        "id": "cwZPX86S-rnQ",
        "outputId": "958647d5-2d27-4b66-fa2c-920823273569"
      },
      "execution_count": 25,
      "outputs": [
        {
          "output_type": "stream",
          "name": "stdout",
          "text": [
            "====================================================================================================\n",
            "probbabilitas variabel Temperature : 0.006463\n",
            "H0 diterima, maka Variabel bebas secara parsial berpengaruh signifikan terhadap variabel terikat.\n",
            "====================================================================================================\n",
            "probbabilitas variabel Leaflets : 1.173e-07\n",
            "H0 diterima, maka Variabel bebas secara parsial berpengaruh signifikan terhadap variabel terikat.\n",
            "====================================================================================================\n",
            "probbabilitas variabel Price : 1.545e-10\n",
            "H0 diterima, maka Variabel bebas secara parsial berpengaruh signifikan terhadap variabel terikat.\n",
            "====================================================================================================\n"
          ]
        }
      ]
    },
    {
      "cell_type": "markdown",
      "source": [
        "### Uji Simultan (Uji F)"
      ],
      "metadata": {
        "id": "Ot4ZEFAAqx0Y"
      }
    },
    {
      "cell_type": "markdown",
      "source": [
        "**Rumusan Hipotesis**\n",
        "\n",
        "H0 : Model yang digunakan signifikan\n",
        "\n",
        "H1 : Model yang digunakan tidak signifikan\n",
        "\n",
        "**Kriteria Uji**\n",
        "\n",
        "dengan mengambil α sebesar 0.05, jika probbabilitas variabel bebas < α maka H0 diterima\n",
        "\n",
        "Harapan kita di sini adalah untuk menerima hipotesis nol, dengan probbabilitas variabel bebas yang kurang dari 0.05 yang artinya Model yang digunakan signifikan"
      ],
      "metadata": {
        "id": "A7wTrORkAoqp"
      }
    },
    {
      "cell_type": "code",
      "source": [
        "print('='*100)\n",
        "if est.f_pvalue > 0.05:\n",
        "  print(\"F-statistic: : {:.4}\".format(est.f_pvalue))\n",
        "  print(\"H0 ditolak, maka Model yang digunakan tidak signifikan\")\n",
        "  print('='*100)\n",
        "else:\n",
        "  print(\"F-statistic: : {:.4}\".format(est.f_pvalue))\n",
        "  print(\"H0 diterima, maka Model yang digunakan signifikan\")\n",
        "  print('='*100)"
      ],
      "metadata": {
        "colab": {
          "base_uri": "https://localhost:8080/"
        },
        "id": "7ZCRFwyEBKCo",
        "outputId": "ad294718-1fa8-42d2-a94d-d075707e8886"
      },
      "execution_count": 26,
      "outputs": [
        {
          "output_type": "stream",
          "name": "stdout",
          "text": [
            "====================================================================================================\n",
            "F-statistic: : 4.48e-12\n",
            "H0 diterima, maka Model yang digunakan signifikan\n",
            "====================================================================================================\n"
          ]
        }
      ]
    },
    {
      "cell_type": "markdown",
      "source": [
        "Berdasarkan hasil pengujian di atas prob. (F-Statistic) = 4.48e-12 < 0.05, maka H0 diterima. Hal ini berarti variabel Temperature, Leaflets, dan Price berpengaruh secara signifikan terhadap variabel income"
      ],
      "metadata": {
        "id": "_7yPq_5ssMDB"
      }
    },
    {
      "cell_type": "markdown",
      "source": [
        "### Koefisien Determinasi"
      ],
      "metadata": {
        "id": "IrDUo2QtFcSn"
      }
    },
    {
      "cell_type": "markdown",
      "source": [
        "***R-squared*** adalah salah satu ukuran yang digunakan untuk menilai seberapa baik variabel independen yang digunakan untuk menjelaskan variasi pada variabel dependen. Semakin besar nilainya atau semakin mendekati ***1***, semakin baik modelnya.\n",
        "\n",
        "Pada hasil model regresi ***est.summary()*** di atas didapatkan nilai R-squared sebesar ***0.870.*** Hal ini menunjukkan bahwa presentase variabel tak bebas ***'income'*** yang dijelaskan oleh variabel bebas sebesar ***87%*** dan sekitar ***13%*** sisanya dipengaruhi oleh faktor-faktor lain di luar variabel bebas yang digunakan dalam model."
      ],
      "metadata": {
        "id": "9b70qn9tDBz8"
      }
    }
  ]
}